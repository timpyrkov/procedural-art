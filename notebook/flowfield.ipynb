{
 "cells": [
  {
   "cell_type": "code",
   "execution_count": null,
   "metadata": {},
   "outputs": [],
   "source": [
    "%reload_ext autoreload\n",
    "%autoreload 2\n",
    "\n",
    "import gif\n",
    "import pylab as plt\n",
    "import numpy as np\n",
    "from pythonperlin import perlin\n",
    "\n",
    "def remove_margins():\n",
    "    \"\"\" Removes figure margins, keeps only plot area \"\"\"\n",
    "    plt.gca().set_axis_off()\n",
    "    plt.subplots_adjust(top=1, bottom=0, right=1, left=0, hspace=0, wspace=0)\n",
    "    plt.margins(0,0)\n",
    "    return\n"
   ]
  },
  {
   "cell_type": "markdown",
   "metadata": {},
   "source": [
    "## Generate perlin noise"
   ]
  },
  {
   "cell_type": "code",
   "execution_count": null,
   "metadata": {},
   "outputs": [],
   "source": [
    "%%time\n",
    "\n",
    "\"\"\" Generate noise \"\"\"\n",
    "dens = 24\n",
    "shape = (6,6)\n",
    "p = perlin(shape, dens=dens, seed=0)\n",
    "\n",
    "\"\"\" \n",
    "Use Perlin noise as a phase of a complex number z \n",
    "to generate a direction vector noise for x and y at each grid point.\n",
    "\"\"\"\n",
    "z = np.exp(2j * np.pi * p)\n",
    "dx, dy = z.real, z.imag\n"
   ]
  },
  {
   "cell_type": "markdown",
   "metadata": {},
   "source": [
    "## Draw flow field\n",
    "<br>\n",
    "\n",
    "- To generate a flowfield we use Perlin noise (no octaves) as a vector field. Value at each grid node gives a direction vector (gradient). Then drop random dots and calculate how they move along the gradients. "
   ]
  },
  {
   "cell_type": "code",
   "execution_count": null,
   "metadata": {},
   "outputs": [],
   "source": [
    "def plot_vector_field(z):\n",
    "    \"\"\" Draws a vector field \"\"\"\n",
    "    m, n = z.shape\n",
    "    for i in range(m):\n",
    "        for j in range(n):\n",
    "            di = 0.5 * z[i,j].real\n",
    "            dj = 0.5 * z[i,j].imag\n",
    "            plt.arrow(i, j, di, dj, color='grey', width=0.1, alpha=0.1)\n",
    "    return\n",
    "            \n",
    "def calculate_flow_line(z, niter=96, seed=None):\n",
    "    \"\"\"\n",
    "    Puts a random pint and calculates its flow line \n",
    "    in the vector field z for niter iterations.\n",
    "    \"\"\"\n",
    "    np.random.seed(seed)\n",
    "    m, n = z.shape\n",
    "    # Initialize x, y for a line\n",
    "    x = np.zeros((niter,2)) * np.nan\n",
    "    # put a starting point at random location\n",
    "    x[0] = z.shape * np.random.uniform(-0.1, 1.1, size=2)\n",
    "    # For niter steps move a dot along the direction of\n",
    "    # the closest vector of the vector field.\n",
    "    for k in range(niter-1):\n",
    "        x0 = x[k]\n",
    "        i, j = x0.astype(int)\n",
    "        i = i % m\n",
    "        j = j % n\n",
    "        g = .3 * np.array([z[i,j].real, z[i,j].imag])\n",
    "        x[k+1] = x0 + g\n",
    "    return x.T\n",
    "\n",
    "\n",
    "def dimlight(i, niter=96):\n",
    "    \"\"\" Dims the last frames before redrawing again from the start \"\"\"\n",
    "    alpha = 1 - 1 / (1 + np.exp(0.5 * (niter - i - 10)))\n",
    "    return alpha\n",
    "\n",
    "def plot_flow_field(i, x, z, color, show_vectors=False):\n",
    "    xlim, ylim = z.shape\n",
    "    alpha = 0.1 * dimlight(i)\n",
    "    fig = plt.figure(figsize=(6,6), facecolor=\"black\")\n",
    "    remove_margins()\n",
    "    for k, x_ in enumerate(x):\n",
    "        plt.plot(x_[0][:i], x_[1][:i], color=color[k], lw=2, alpha=alpha)\n",
    "    plt.xlim(0,xlim)\n",
    "    plt.ylim(0,ylim)\n",
    "    plt.tight_layout()\n",
    "    return fig\n",
    "\n",
    "\"\"\" Generate flow lines and random color for each line \"\"\"\n",
    "x = [calculate_flow_line(z, seed=None) for i in range(7200)]\n",
    "color = plt.get_cmap(\"coolwarm\")(np.random.uniform(0,1,len(x)))\n",
    "\n",
    "\"\"\" Show one frame of the flow field \"\"\"\n",
    "plot_flow_field(16, x, z, color, show_vectors=True)\n",
    "plt.savefig(\"flowfield.jpg\")"
   ]
  },
  {
   "cell_type": "markdown",
   "metadata": {},
   "source": [
    "## Animate flow field using line flow iteration as a time axis"
   ]
  },
  {
   "cell_type": "code",
   "execution_count": null,
   "metadata": {},
   "outputs": [],
   "source": [
    "# Set the dots per inch resolution\n",
    "gif.options.matplotlib[\"dpi\"] = 180\n",
    "\n",
    "# Decorate a plot function with @gif.frame\n",
    "@gif.frame\n",
    "def plot(i, x, z, color):\n",
    "    plot_flow_field(i, x, z, color)\n",
    "\n",
    "# Construct \"frames\"\n",
    "niter = 96\n",
    "frames = [plot(i, x, z, color) for i in range(niter)]\n",
    "\n",
    "# Save \"frames\" to gif with a specified duration (milliseconds) between each frame\n",
    "gif.save(frames, 'flowfield.gif', duration=100)"
   ]
  },
  {
   "cell_type": "markdown",
   "metadata": {},
   "source": [
    "## FIN"
   ]
  }
 ],
 "metadata": {
  "kernelspec": {
   "display_name": "Python 3 (ipykernel)",
   "language": "python",
   "name": "python3"
  },
  "language_info": {
   "codemirror_mode": {
    "name": "ipython",
    "version": 3
   },
   "file_extension": ".py",
   "mimetype": "text/x-python",
   "name": "python",
   "nbconvert_exporter": "python",
   "pygments_lexer": "ipython3",
   "version": "3.9.16"
  }
 },
 "nbformat": 4,
 "nbformat_minor": 1
}
