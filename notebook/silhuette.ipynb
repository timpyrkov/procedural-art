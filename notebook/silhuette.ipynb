{
 "cells": [
  {
   "cell_type": "code",
   "execution_count": null,
   "metadata": {},
   "outputs": [],
   "source": [
    "%reload_ext autoreload\n",
    "%autoreload 2\n",
    "\n",
    "import gif\n",
    "import pylab as plt\n",
    "import numpy as np\n",
    "import pandas as pd\n",
    "from tqdm import tqdm\n",
    "from PIL import Image\n",
    "from PIL import ImageColor\n",
    "from matplotlib.colors import LinearSegmentedColormap\n",
    "from pythonperlin import perlin, extend2d\n",
    "import time\n",
    "\n",
    "def remove_margins():\n",
    "    \"\"\" Removes figure margins, keeps only plot area \"\"\"\n",
    "    plt.gca().set_axis_off()\n",
    "    plt.subplots_adjust(top=1, bottom=0, right=1, left=0, hspace=0, wspace=0)\n",
    "    plt.margins(0,0)\n",
    "    return\n"
   ]
  },
  {
   "cell_type": "markdown",
   "metadata": {},
   "source": [
    "## Generate perlin noise"
   ]
  },
  {
   "cell_type": "code",
   "execution_count": null,
   "metadata": {},
   "outputs": [],
   "source": [
    "%%time\n",
    "nx, ny = 25, 35\n",
    "shape = (8, nx, ny)\n",
    "p = perlin(shape, dens=32, seed=0)\n"
   ]
  },
  {
   "cell_type": "markdown",
   "metadata": {},
   "source": [
    "## Helper functions"
   ]
  },
  {
   "cell_type": "code",
   "execution_count": null,
   "metadata": {
    "scrolled": false
   },
   "outputs": [],
   "source": [
    "def load_image(fname):\n",
    "    image = Image.open(fname)\n",
    "    img = image.convert(\"RGB\")\n",
    "    img = np.array(img).astype(float)\n",
    "    img = np.sum(img, axis=2).T[:,::-1] / (3 * 255)\n",
    "    img = (img > 0.5).astype(float)\n",
    "    #img.shape, img.max(), img.min()\n",
    "    return img\n",
    "\n",
    "\n",
    "def split_into_blocks(x, nx, ny):\n",
    "    blocks = np.hsplit(x, ny)\n",
    "    blocks = np.vstack(blocks)\n",
    "    blocks = np.split(blocks, nx * ny)\n",
    "    return blocks\n",
    "\n",
    "\n",
    "def calc_com(x, axis=0):\n",
    "    com = 0.0\n",
    "    if np.std(x):\n",
    "        s = np.sum(x)\n",
    "        d = x.shape[axis]\n",
    "        i = (np.arange(d) + .5) / d - .5\n",
    "        if axis:\n",
    "            com = np.sum(np.dot(x, i), axis=0) / s\n",
    "        else:\n",
    "            com = np.sum(np.dot(x.T, i), axis=0) / s\n",
    "    return com\n",
    "\n",
    "\n",
    "def calc_fill_and_displacements(x, nx, ny):\n",
    "    blocks = split_into_blocks(x, nx, ny)\n",
    "    dx = []\n",
    "    dy = []\n",
    "    dz = []\n",
    "    for b in blocks:\n",
    "        dx.append(calc_com(b - 1, 0) - calc_com(b, 0))\n",
    "        dy.append(calc_com(b - 1, 1) - calc_com(b, 1))\n",
    "        dz.append(1 - np.sum(b) / b.size)\n",
    "    dx = np.array(dx).reshape(ny, nx).T\n",
    "    dy = np.array(dy).reshape(ny, nx).T\n",
    "    dz = np.array(dz).reshape(ny, nx).T\n",
    "    return dx, dy, dz\n",
    "\n",
    "\n",
    "def silhuette_to_coords(fname, nx, ny):\n",
    "    img = load_image(fname)\n",
    "    x, y = np.meshgrid(np.arange(nx), np.arange(ny), indexing=\"ij\")\n",
    "    dx, dy, dz = calc_fill_and_displacements(img, nx, ny)\n",
    "    return x, y, dx, dy, dz\n",
    "    \n",
    "def calc_displacement_levels(dx, dy):\n",
    "    levels = (np.abs(dx) > 0) | (np.abs(dy) > 0)\n",
    "    levels = levels.astype(float)\n",
    "    level = np.max(levels) + 1\n",
    "    start = True\n",
    "    while start:\n",
    "        start = False\n",
    "        l_next = np.copy(levels)\n",
    "        for i in [-1, 1]:\n",
    "            for j in [-1, 1]:\n",
    "                l = np.pad(levels, (1,1))\n",
    "                l = np.roll(l, i, 0)\n",
    "                l = np.roll(l, j, 1)\n",
    "                l = l[1:-1][:,1:-1]\n",
    "                l_next[l > 0] = 1\n",
    "        mask = (levels == 0) & (l_next > 0)\n",
    "        if np.any(mask):\n",
    "            start = True\n",
    "            levels[mask] = level\n",
    "            level += 1\n",
    "    return levels\n"
   ]
  },
  {
   "cell_type": "markdown",
   "metadata": {},
   "source": [
    "## Draw wireframe\n",
    "<br>\n",
    "\n",
    "- To generate a smoothly morphing wireframe we use Perlin noise (no octaves) to distort each grid node, then populate the grid with more lines along one direction (x).\n",
    "<br>\n",
    "\n",
    "- Displace grid nodes to increase density based on edge detection of a black-and-white image of size 375 x 525. Then apply periodic interchange of noise and displacement."
   ]
  },
  {
   "cell_type": "code",
   "execution_count": null,
   "metadata": {},
   "outputs": [],
   "source": [
    "def plot_wireframe(i, fname, nx, ny, p):\n",
    "    w = 2 * np.pi / 256\n",
    "    x, y, dx, dy, dz = silhuette_to_coords(fname, nx, ny)\n",
    "    p = p[i][16:][:,16:]\n",
    "    p = p[::32][:,::32]\n",
    "    z = np.exp(2j * np.pi * p)\n",
    "    px, py = z.real, z.imag\n",
    "    \n",
    "    # Calc noisy x and y\n",
    "    xn = x + 1.5 * px\n",
    "    yn = y + 1.5 * py\n",
    "    xn = extend2d(xn[:,::2][::2])\n",
    "    yn = extend2d(yn[:,::2][::2])\n",
    "    # Calc displaced x and y\n",
    "    xd = x + 1.5 * dx #+ .2 * pslowx\n",
    "    yd = y + 1.5 * dy #+ .2 * pslowy\n",
    "    # Mix noisy and displaced x and y    \n",
    "    levels = calc_displacement_levels(dx, dy)\n",
    "    scale = 1 / np.power(levels, 0.25)\n",
    "    f = ((levels <= 3) | (dz > 0)).astype(float)\n",
    "    periodic = 0.8 + 0.2 * np.cos(w * i + np.pi)\n",
    "    f = f * periodic * scale\n",
    "    x = f * xd + (1 - f) * xn\n",
    "    y = f * yd + (1 - f) * yn\n",
    "\n",
    "    # Populate wires along x axis\n",
    "    x = extend2d(x, 4, 0)\n",
    "    y = extend2d(y, 4, 0)\n",
    "    \n",
    "    fig = plt.figure(figsize=(6,7.5), facecolor=\"#000022\")\n",
    "    remove_margins()\n",
    "    cmap = LinearSegmentedColormap.from_list(\"cmap\", [\"dodgerblue\", \"white\"])\n",
    "    for i in range(x.shape[0]):\n",
    "        color = cmap(i/x.shape[0])\n",
    "        plt.plot(x[i], y[i], color=color)\n",
    "    plt.xlim(-3,nx+3)\n",
    "    plt.ylim(-1,ny+1)\n",
    "    plt.tight_layout()\n",
    "    return fig\n",
    "\n",
    "\n",
    "nx, ny = 25, 35\n",
    "fname = \"image.png\"\n",
    "fig = plot_wireframe(128, fname, nx, ny, p)"
   ]
  },
  {
   "cell_type": "markdown",
   "metadata": {},
   "source": [
    "## Animate wireframe using 1st dimension as a time axis"
   ]
  },
  {
   "cell_type": "code",
   "execution_count": null,
   "metadata": {},
   "outputs": [],
   "source": [
    "# Set the dots per inch resolution\n",
    "gif.options.matplotlib[\"dpi\"] = 180\n",
    "\n",
    "# Decorate a plot function with @gif.frame\n",
    "@gif.frame\n",
    "def plot(i, fname, nx, ny, p):\n",
    "    plot_wireframe(i, fname, nx, ny, p)\n",
    "\n",
    "# Construct \"frames\"\n",
    "frames = [plot(i, fname, nx, ny, p) for i in range(0, 256, 2)]\n",
    "\n",
    "# Save \"frames\" to gif with a specified duration (milliseconds) between each frame\n",
    "gif.save(frames, 'wireframe.gif', duration=120)"
   ]
  }
 ],
 "metadata": {
  "kernelspec": {
   "display_name": "py3.9",
   "language": "python",
   "name": "py3.9"
  },
  "language_info": {
   "codemirror_mode": {
    "name": "ipython",
    "version": 3
   },
   "file_extension": ".py",
   "mimetype": "text/x-python",
   "name": "python",
   "nbconvert_exporter": "python",
   "pygments_lexer": "ipython3",
   "version": "3.9.16"
  }
 },
 "nbformat": 4,
 "nbformat_minor": 1
}
