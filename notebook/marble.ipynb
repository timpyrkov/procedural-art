{
 "cells": [
  {
   "cell_type": "code",
   "execution_count": null,
   "metadata": {},
   "outputs": [],
   "source": [
    "%reload_ext autoreload\n",
    "%autoreload 2\n",
    "\n",
    "import pylab as plt\n",
    "import numpy as np\n",
    "from matplotlib.colors import LinearSegmentedColormap\n",
    "from pythonperlin import perlin\n",
    "\n",
    "def remove_margins():\n",
    "    \"\"\" Removes figure margins, keeps only plot area \"\"\"\n",
    "    plt.gca().set_axis_off()\n",
    "    plt.subplots_adjust(top=1, bottom=0, right=1, left=0, hspace=0, wspace=0)\n",
    "    plt.margins(0,0)\n",
    "    return\n"
   ]
  },
  {
   "cell_type": "markdown",
   "metadata": {},
   "source": [
    "## Marble textures\n",
    "<br>\n",
    "\n",
    "- To model a marble texture we use perlin noise with large number of octaves, then contrast it using a logscale-sampled colormap.\n",
    "<br>\n",
    "\n",
    "- Marble veins can be added using a periodic function sin(x)."
   ]
  },
  {
   "cell_type": "code",
   "execution_count": null,
   "metadata": {},
   "outputs": [],
   "source": [
    "%%time\n",
    "\"\"\" Perlin noise with high number of octaves \"\"\"\n",
    "p = perlin((4,4), dens=64, octaves=8, seed=0)\n",
    "print(p.shape)\n",
    "\n",
    "\"\"\" Log-scale to generate contrasted color maps \"\"\"\n",
    "logscale = np.logspace(0,-10,50)\n",
    "\n",
    "\"\"\" Light marble \"\"\"\n",
    "s = np.abs(p)\n",
    "cmap = plt.get_cmap(\"BuPu\")\n",
    "cmap_light = LinearSegmentedColormap.from_list(\"LightMarble\", cmap(logscale))\n",
    "plt.figure(figsize=(6,6), facecolor=\"black\")\n",
    "remove_margins()\n",
    "plt.imshow(s, cmap=cmap_light)\n",
    "plt.savefig(\"marble_light.jpg\")\n",
    "plt.show()\n",
    "\n",
    "\n",
    "\"\"\" Dark marble \"\"\"\n",
    "s = np.abs(p)\n",
    "cmap = LinearSegmentedColormap.from_list(\"BlackGreen\", [\"black\", \"#000022\", \"#0066ff\"])\n",
    "cmap_dark = LinearSegmentedColormap.from_list(\"DarkMarble\", cmap(logscale))\n",
    "plt.figure(figsize=(6,6), facecolor=\"black\")\n",
    "remove_margins()\n",
    "plt.imshow(s, cmap=cmap_dark)\n",
    "plt.savefig(\"marble_dark.jpg\")\n",
    "plt.show()\n",
    "\n",
    "\n",
    "\"\"\" Dark marble with veins \"\"\"\n",
    "# Use sin(x+y+perlin_noise) to add periodic veins\n",
    "idx = np.arange(p0.shape[-1]).astype(float)\n",
    "x, y = np.meshgrid(idx, idx)\n",
    "phi = x + y\n",
    "phi += 100 * p\n",
    "s = np.sin(0.1 * phi)\n",
    "# Plot marble texture\n",
    "cmap = LinearSegmentedColormap.from_list(\"BlackGreen\", [\"black\", \"black\", \"#000022\", \"#0055dd\"])\n",
    "cmap_veins = LinearSegmentedColormap.from_list(\"DarkMarble\", cmap(logscale))\n",
    "plt.figure(figsize=(6,6), facecolor=\"black\")\n",
    "remove_margins()\n",
    "plt.imshow(s, cmap=cmap_veins)\n",
    "plt.savefig(\"marble_veins.jpg\")\n",
    "plt.show()\n"
   ]
  },
  {
   "cell_type": "markdown",
   "metadata": {},
   "source": [
    "## Nacre (pearl) texture\n",
    "<br>\n",
    "\n",
    "- To model nacre platelets we use a difference of two absolute values of perlin noises."
   ]
  },
  {
   "cell_type": "code",
   "execution_count": null,
   "metadata": {},
   "outputs": [],
   "source": [
    "%%time\n",
    "p0 = perlin((8,8), dens=32, octaves=0, seed=0)\n",
    "p1 = perlin((8,8), dens=32, octaves=0, seed=1)\n",
    "s = np.abs(p0) - np.abs(p1)\n",
    "\n",
    "colors = plt.get_cmap(\"cubehelix\")(np.linspace(0,1,11))[7:]\n",
    "cmap_pearl = LinearSegmentedColormap.from_list(\"pearl\", colors)\n",
    "\n",
    "plt.figure(figsize=(6,6), facecolor=\"black\")\n",
    "plt.gca().set_axis_off()\n",
    "plt.subplots_adjust(top=1, bottom=0, right=1, left=0, hspace=0, wspace=0)\n",
    "plt.margins(0,0)\n",
    "plt.imshow(s, cmap=cmap_pearl)\n",
    "plt.show()"
   ]
  }
 ],
 "metadata": {
  "kernelspec": {
   "display_name": "Python 3 (ipykernel)",
   "language": "python",
   "name": "python3"
  },
  "language_info": {
   "codemirror_mode": {
    "name": "ipython",
    "version": 3
   },
   "file_extension": ".py",
   "mimetype": "text/x-python",
   "name": "python",
   "nbconvert_exporter": "python",
   "pygments_lexer": "ipython3",
   "version": "3.9.16"
  }
 },
 "nbformat": 4,
 "nbformat_minor": 1
}
