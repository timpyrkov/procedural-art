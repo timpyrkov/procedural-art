{
 "cells": [
  {
   "cell_type": "code",
   "execution_count": null,
   "metadata": {},
   "outputs": [],
   "source": [
    "%reload_ext autoreload\n",
    "%autoreload 2\n",
    "\n",
    "import gif\n",
    "import pylab as plt\n",
    "import numpy as np\n",
    "from matplotlib.colors import LinearSegmentedColormap\n",
    "from pythonperlin import perlin\n",
    "\n",
    "def remove_margins():\n",
    "    \"\"\" Removes figure margins, keeps only plot area \"\"\"\n",
    "    plt.gca().set_axis_off()\n",
    "    plt.subplots_adjust(top=1, bottom=0, right=1, left=0, hspace=0, wspace=0)\n",
    "    plt.margins(0,0)\n",
    "    return\n"
   ]
  },
  {
   "cell_type": "markdown",
   "metadata": {},
   "source": [
    "## Generate perlin noise"
   ]
  },
  {
   "cell_type": "code",
   "execution_count": null,
   "metadata": {},
   "outputs": [],
   "source": [
    "%%time\n",
    "\n",
    "\"\"\" Generate noise \"\"\"\n",
    "shape=(8,3,3)\n",
    "x = perlin(shape, dens=128, seed=0, octaves=4)"
   ]
  },
  {
   "cell_type": "markdown",
   "metadata": {},
   "source": [
    "## Draw clouds\n",
    "<br>\n",
    "\n",
    "- To generate cloud texture we use perlin noise with large number of octaves, then colorize it using a white-blue colormap.\n",
    "<br>\n",
    "\n",
    "- Alternatively, we can colorize it with, for example, red-dark colormap to generate a Babylon-5 hyperspace-looking texture.\n"
   ]
  },
  {
   "cell_type": "code",
   "execution_count": null,
   "metadata": {},
   "outputs": [],
   "source": [
    "def plot_clouds(i, x):\n",
    "    cmap = plt.get_cmap(\"Blues\")\n",
    "    fig = plt.figure(figsize=(6,6), facecolor=\"black\")\n",
    "    remove_margins()\n",
    "    plt.imshow(x[i], cmap=cmap)\n",
    "    return fig\n",
    "\n",
    "\"\"\" Show one frame of cloud texture \"\"\"\n",
    "plot_clouds(0, x)\n",
    "plt.savefig(\"clouds.jpg\")\n",
    "plt.show()\n",
    "\n",
    "def plot_hyperspace(i, x):\n",
    "    cmap = plt.get_cmap(\"hot_r\")\n",
    "    fig = plt.figure(figsize=(6,6), facecolor=\"black\")\n",
    "    remove_margins()\n",
    "    plt.imshow(x[0], cmap=cmap, vmin=-3, vmax=.6)\n",
    "    zorder = max([ch.zorder for ch in plt.gca().get_children()])\n",
    "    img = plt.imread(\"starfury.png\")\n",
    "    plt.imshow(img, zorder=zorder+1)\n",
    "    return fig\n",
    "\n",
    "\"\"\" Show one frame of hyperspace texture \"\"\"\n",
    "plot_hyperspace(0, x)\n",
    "plt.savefig(\"starfury.jpg\")\n",
    "plt.show()\n"
   ]
  },
  {
   "cell_type": "markdown",
   "metadata": {},
   "source": [
    "## Animate clouds using 1st dimension as a time axis"
   ]
  },
  {
   "cell_type": "code",
   "execution_count": null,
   "metadata": {},
   "outputs": [],
   "source": [
    "# Set the dots per inch resolution\n",
    "gif.options.matplotlib[\"dpi\"] = 180\n",
    "\n",
    "# Decorate a plot function with @gif.frame\n",
    "@gif.frame\n",
    "def plot(i, x):\n",
    "    plot_clouds(i, x)\n",
    "\n",
    "# Construct \"frames\"\n",
    "frames = [plot(i, x) for i in range(x.shape[0])[::4]]\n",
    "\n",
    "# Save \"frames\" to gif with a specified duration (milliseconds) between each frame\n",
    "gif.save(frames, 'clouds.gif', duration=100)"
   ]
  },
  {
   "cell_type": "code",
   "execution_count": null,
   "metadata": {},
   "outputs": [],
   "source": [
    "# Set the dots per inch resolution\n",
    "gif.options.matplotlib[\"dpi\"] = 180\n",
    "\n",
    "# Decorate a plot function with @gif.frame\n",
    "@gif.frame\n",
    "def plot(i, x):\n",
    "    plot_hyperspace(i, x)\n",
    "\n",
    "# Construct \"frames\"\n",
    "frames = [plot(i, x) for i in range(x.shape[0])[::4]]\n",
    "\n",
    "# Save \"frames\" to gif with a specified duration (milliseconds) between each frame\n",
    "gif.save(frames, 'starfury.gif', duration=100)"
   ]
  }
 ],
 "metadata": {
  "kernelspec": {
   "display_name": "Python 3 (ipykernel)",
   "language": "python",
   "name": "python3"
  },
  "language_info": {
   "codemirror_mode": {
    "name": "ipython",
    "version": 3
   },
   "file_extension": ".py",
   "mimetype": "text/x-python",
   "name": "python",
   "nbconvert_exporter": "python",
   "pygments_lexer": "ipython3",
   "version": "3.9.16"
  }
 },
 "nbformat": 4,
 "nbformat_minor": 1
}
