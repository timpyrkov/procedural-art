{
 "cells": [
  {
   "cell_type": "code",
   "execution_count": null,
   "metadata": {},
   "outputs": [],
   "source": [
    "%reload_ext autoreload\n",
    "%autoreload 2\n",
    "\n",
    "from silhouette import *\n",
    "s = ImageToWireframe()\n"
   ]
  },
  {
   "cell_type": "markdown",
   "metadata": {},
   "source": [
    "## Draw frame\n",
    "<br>\n",
    "\n",
    "- To generate a smoothly morphing wireframe we use Perlin noise (no octaves) to distort each grid node. This may take upnto half an hour. Then populate the grid with more lines along one direction (x).\n",
    "<br>\n",
    "\n",
    "- To add a silhouette we use a black-and-white image of size 375 x 525 pixeles (see silhouette.py). Then apply an edge-detection algorithm and displace grid nodes close to the edges of a silhouette."
   ]
  },
  {
   "cell_type": "code",
   "execution_count": null,
   "metadata": {},
   "outputs": [],
   "source": [
    "fname = \"silhuette.png\"\n",
    "fig = s.draw_frame(0, fname)\n"
   ]
  },
  {
   "cell_type": "markdown",
   "metadata": {},
   "source": [
    "## Animate wireframe using 1st dimension as a time axis"
   ]
  },
  {
   "cell_type": "code",
   "execution_count": null,
   "metadata": {},
   "outputs": [],
   "source": [
    "%%time\n",
    "s.draw_animation(fname)"
   ]
  }
 ],
 "metadata": {
  "kernelspec": {
   "display_name": "py3.9",
   "language": "python",
   "name": "py3.9"
  },
  "language_info": {
   "codemirror_mode": {
    "name": "ipython",
    "version": 3
   },
   "file_extension": ".py",
   "mimetype": "text/x-python",
   "name": "python",
   "nbconvert_exporter": "python",
   "pygments_lexer": "ipython3",
   "version": "3.9.16"
  }
 },
 "nbformat": 4,
 "nbformat_minor": 1
}
