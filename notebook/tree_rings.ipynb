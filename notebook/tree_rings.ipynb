{
 "cells": [
  {
   "cell_type": "code",
   "execution_count": null,
   "metadata": {},
   "outputs": [],
   "source": [
    "%reload_ext autoreload\n",
    "%autoreload 2\n",
    "\n",
    "import numpy as np\n",
    "import pylab as plt\n",
    "from matplotlib.colors import LinearSegmentedColormap\n",
    "from pythonperlin import perlin, extend2d\n",
    "\n",
    "def remove_margins():\n",
    "    \"\"\" Removes figure margins, keeps only plot area \"\"\"\n",
    "    plt.gca().set_axis_off()\n",
    "    plt.subplots_adjust(top=1, bottom=0, right=1, left=0, hspace=0, wspace=0)\n",
    "    plt.margins(0,0)\n",
    "    return\n"
   ]
  },
  {
   "cell_type": "markdown",
   "metadata": {},
   "source": [
    "## Tree rings\n",
    "<br>\n",
    "\n",
    "- To model tree rings across the trunk, we use radial periodic function and distort the phase with Perlin noise.\n",
    "<br>\n",
    "\n",
    "- To model tree rings along the trunk, we scale up Perlin noise, say x 10 times, and subtract its integer part."
   ]
  },
  {
   "cell_type": "code",
   "execution_count": null,
   "metadata": {},
   "outputs": [],
   "source": [
    "\"\"\" Method 2. Tree rings across the tree trunc. \"\"\"\n",
    "p = perlin((8,8), dens=32, octaves=2, seed=0)\n",
    "\n",
    "idx = np.arange(len(p)) - len(p) / 2\n",
    "x, y = np.meshgrid(idx, idx)\n",
    "phi = np.sqrt(x**2 + y**2)\n",
    "p = np.sin(0.3 * phi + 2 * p)\n",
    "\n",
    "plt.figure(figsize=(6,6), facecolor=\"black\")\n",
    "plt.imshow(p, cmap=\"copper\")\n",
    "remove_margins()\n",
    "plt.show()"
   ]
  },
  {
   "cell_type": "code",
   "execution_count": null,
   "metadata": {},
   "outputs": [],
   "source": [
    "\"\"\" Method 1. Tree rings along the tree trunk. \"\"\"\n",
    "p = 10 * perlin((4,4), dens=64, octaves=0, seed=0)\n",
    "p = extend2d(np.abs(p), n=4, axis=0, mode=\"same\")\n",
    "p -= p.astype(int)\n",
    "\n",
    "plt.figure(figsize=(6,6), facecolor=\"black\")\n",
    "plt.imshow(p, cmap=\"copper_r\")\n",
    "remove_margins()\n",
    "plt.show()"
   ]
  }
 ],
 "metadata": {
  "kernelspec": {
   "display_name": "Python 3 (ipykernel)",
   "language": "python",
   "name": "python3"
  },
  "language_info": {
   "codemirror_mode": {
    "name": "ipython",
    "version": 3
   },
   "file_extension": ".py",
   "mimetype": "text/x-python",
   "name": "python",
   "nbconvert_exporter": "python",
   "pygments_lexer": "ipython3",
   "version": "3.9.17"
  }
 },
 "nbformat": 4,
 "nbformat_minor": 1
}
