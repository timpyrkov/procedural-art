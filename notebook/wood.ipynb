{
 "cells": [
  {
   "cell_type": "code",
   "execution_count": null,
   "metadata": {},
   "outputs": [],
   "source": [
    "%reload_ext autoreload\n",
    "%autoreload 2\n",
    "\n",
    "import numpy as np\n",
    "import pylab as plt\n",
    "from matplotlib.colors import LinearSegmentedColormap\n",
    "from pythonperlin import perlin, extend2d\n",
    "\n",
    "def remove_margins():\n",
    "    \"\"\" Removes figure margins, keeps only plot area \"\"\"\n",
    "    plt.gca().set_axis_off()\n",
    "    plt.subplots_adjust(top=1, bottom=0, right=1, left=0, hspace=0, wspace=0)\n",
    "    plt.margins(0,0)\n",
    "    return\n"
   ]
  },
  {
   "cell_type": "markdown",
   "metadata": {},
   "source": [
    "## Generate Perlin noise"
   ]
  },
  {
   "cell_type": "code",
   "execution_count": null,
   "metadata": {},
   "outputs": [],
   "source": [
    "%%time\n",
    "p0 = perlin((16,16), dens=16, octaves=8, seed=0)\n",
    "print(p0.shape)"
   ]
  },
  {
   "cell_type": "markdown",
   "metadata": {},
   "source": [
    "## Wood bark texture\n",
    "<br>\n",
    "\n",
    "- To model wood bark texture with fissuring pattern, we use combinations of periodic colormap and stretching along the vertical direction."
   ]
  },
  {
   "cell_type": "code",
   "execution_count": null,
   "metadata": {},
   "outputs": [],
   "source": [
    "\"\"\" Method 1. Simply stretch Perlin noise in the vertical direction. \"\"\"\n",
    "p = extend2d(p0, n=8, axis=0, mode=\"same\")\n",
    "\n",
    "plt.figure(figsize=(6,6), facecolor=\"black\")\n",
    "plt.imshow(p, cmap=\"copper_r\")\n",
    "remove_margins()\n",
    "plt.savefig(\"wood1.png\")\n",
    "plt.show()"
   ]
  },
  {
   "cell_type": "code",
   "execution_count": null,
   "metadata": {},
   "outputs": [],
   "source": [
    "\"\"\" Method 2. Stretch and apply periodic colormap. \"\"\"\n",
    "p = extend2d(p0, n=4, axis=0, mode=\"same\")\n",
    "\n",
    "periodic = np.array([1, 0.1, 1, 0.1, 1, 0.1, 1])\n",
    "colors = plt.cm.get_cmap(\"copper_r\")(periodic)\n",
    "cmap = LinearSegmentedColormap.from_list(\"cmap\", colors)\n",
    "\n",
    "plt.figure(figsize=(6,6), facecolor=\"black\")\n",
    "plt.imshow(p, cmap=cmap)\n",
    "remove_margins()\n",
    "plt.show()"
   ]
  },
  {
   "cell_type": "code",
   "execution_count": null,
   "metadata": {},
   "outputs": [],
   "source": [
    "\"\"\" Method 3. Stretch and apply periodic colormap. \"\"\"\n",
    "p = extend2d(p0, n=4, axis=0, mode=\"same\")\n",
    "\n",
    "def sigmoid(x, a, b):\n",
    "    return 1 / (1 + np.exp(-a * (x - b)))\n",
    "    \n",
    "x = np.linspace(0,1,101)\n",
    "periodic = 0.5 * (1 + np.sin(20 * x)) * sigmoid(x, 30, 0.5)\n",
    "# plt.figure(figsize=(12,4), facecolor=\"w\")\n",
    "# plt.plot(t,z)\n",
    "# plt.show()\n",
    "\n",
    "colors = plt.cm.get_cmap(\"copper\")(periodic)\n",
    "cmap = LinearSegmentedColormap.from_list(\"cmap\", colors)\n",
    "\n",
    "plt.figure(figsize=(6,6), facecolor=\"black\")\n",
    "plt.imshow(p, cmap=cmap)\n",
    "remove_margins()\n",
    "plt.savefig(\"wood2.png\")\n",
    "plt.show()"
   ]
  },
  {
   "cell_type": "code",
   "execution_count": null,
   "metadata": {},
   "outputs": [],
   "source": [
    "\"\"\" Method 3. Stretched combinations of noise with different basic frequency. \"\"\"\n",
    "p = extend2d(p0, n=4, axis=0, mode=\"same\")\n",
    "p = p + .5 * perlin((64,64), dens=4, octaves=2, seed=0)\n",
    "p = extend2d(p, n=2, axis=0, mode=\"same\")\n",
    "\n",
    "colors = plt.cm.get_cmap(\"copper_r\")(periodic)\n",
    "cmap = LinearSegmentedColormap.from_list(\"cmap\", colors)\n",
    "\n",
    "plt.figure(figsize=(6,6), facecolor=\"black\")\n",
    "plt.imshow(p, cmap=cmap)\n",
    "remove_margins()\n",
    "plt.savefig(\"wood3.png\")\n",
    "plt.show()"
   ]
  }
 ],
 "metadata": {
  "kernelspec": {
   "display_name": "Python 3 (ipykernel)",
   "language": "python",
   "name": "python3"
  },
  "language_info": {
   "codemirror_mode": {
    "name": "ipython",
    "version": 3
   },
   "file_extension": ".py",
   "mimetype": "text/x-python",
   "name": "python",
   "nbconvert_exporter": "python",
   "pygments_lexer": "ipython3",
   "version": "3.9.17"
  }
 },
 "nbformat": 4,
 "nbformat_minor": 1
}
