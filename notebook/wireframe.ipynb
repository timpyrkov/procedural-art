{
 "cells": [
  {
   "cell_type": "code",
   "execution_count": null,
   "metadata": {},
   "outputs": [],
   "source": [
    "%reload_ext autoreload\n",
    "%autoreload 2\n",
    "\n",
    "import gif\n",
    "import pylab as plt\n",
    "import numpy as np\n",
    "import matplotlib\n",
    "from matplotlib.colors import LinearSegmentedColormap\n",
    "from pythonperlin import perlin, extend2d\n",
    "\n",
    "def remove_margins():\n",
    "    \"\"\" Removes figure margins, keeps only plot area \"\"\"\n",
    "    plt.gca().set_axis_off()\n",
    "    plt.subplots_adjust(top=1, bottom=0, right=1, left=0, hspace=0, wspace=0)\n",
    "    plt.margins(0,0)\n",
    "    return\n"
   ]
  },
  {
   "cell_type": "markdown",
   "metadata": {},
   "source": [
    "## Generate perlin noise"
   ]
  },
  {
   "cell_type": "code",
   "execution_count": null,
   "metadata": {},
   "outputs": [],
   "source": [
    "%%time\n",
    "\n",
    "\"\"\" Size of x and of the wireframe grid \"\"\"\n",
    "n = 10\n",
    "\n",
    "\"\"\" Generate noise \"\"\"\n",
    "dens = 32\n",
    "shape = (8,n+1,n+1)\n",
    "p = perlin(shape, dens=dens, seed=0)\n",
    "\n",
    "\"\"\" \n",
    "We need density only along time axis (axis=0). \n",
    "So we retain only each dens-th element along axes 1 and 2.\n",
    "Prior to that, however, note that Perlin noise is zero at grid nodes. \n",
    "This is not good-looking visually, so first displace by dens//2.\n",
    "\"\"\"\n",
    "p = p[:,dens//2:][:,:,dens//2:]\n",
    "p = p[:,::dens][:,:,::dens]\n",
    "\n",
    "\"\"\" \n",
    "Use Perlin noise as a phase of a complex number z \n",
    "to generate a displacement noise for x and y. \n",
    "\"\"\"\n",
    "z = np.exp(2j * np.pi * p)\n",
    "px = z.real\n",
    "py = z.imag\n"
   ]
  },
  {
   "cell_type": "markdown",
   "metadata": {},
   "source": [
    "## Draw wireframe\n",
    "<br>\n",
    "\n",
    "- To generate a smoothly morphing wireframe we use Perlin noise (no octaves) to distort each grid node, then populate the grid with more lines along one direction (x)."
   ]
  },
  {
   "cell_type": "code",
   "execution_count": null,
   "metadata": {},
   "outputs": [],
   "source": [
    "def plot_wireframe(i, px, py):\n",
    "    xs = np.linspace(0,n,n+1)\n",
    "    ys = np.linspace(0,n,n+1)\n",
    "    x, y = np.meshgrid(xs, ys)\n",
    "    np.random.seed(0)\n",
    "    x += px[i]\n",
    "    y += py[i]\n",
    "    # Populate wires along x axis\n",
    "    x = extend2d(x, 16, axis=1).T\n",
    "    y = extend2d(y, 16, axis=1).T\n",
    "    # Shrink x coordinate for better visual effect\n",
    "    x = 1 + 0.8 * x\n",
    "    \n",
    "    fig = plt.figure(figsize=(6,6), facecolor=\"#000022\")\n",
    "    remove_margins()\n",
    "    cmap = LinearSegmentedColormap.from_list(\"bw\", [\"dodgerblue\", \"white\"])\n",
    "    for i in range(x.shape[0]):\n",
    "        color = cmap(i/x.shape[0])\n",
    "        plt.plot(x[i], y[i], color=color)\n",
    "    plt.xlim(-1,n+1)\n",
    "    plt.ylim(-1,n+1)\n",
    "    plt.tight_layout()\n",
    "    return fig\n",
    "\n",
    "\n",
    "\"\"\" Show one frame of the wireframe \"\"\"\n",
    "plot_wireframe(0, px, py)\n",
    "plt.savefig(\"wireframe.jpg\")"
   ]
  },
  {
   "cell_type": "markdown",
   "metadata": {},
   "source": [
    "## Animate wireframe using 1st dimension as a time axis"
   ]
  },
  {
   "cell_type": "code",
   "execution_count": null,
   "metadata": {},
   "outputs": [],
   "source": [
    "# Set the dots per inch resolution\n",
    "gif.options.matplotlib[\"dpi\"] = 180\n",
    "\n",
    "# Decorate a plot function with @gif.frame\n",
    "@gif.frame\n",
    "def plot(i, px, py):\n",
    "    plot_wireframe(i, px, py)\n",
    "\n",
    "# Construct \"frames\"\n",
    "frames = [plot(i, px, py) for i in range(0, len(px), 2)]\n",
    "\n",
    "# Save \"frames\" to gif with a specified duration (milliseconds) between each frame\n",
    "gif.save(frames, 'wireframe.gif', duration=200)"
   ]
  }
 ],
 "metadata": {
  "celltoolbar": "Raw Cell Format",
  "kernelspec": {
   "display_name": "Python 3 (ipykernel)",
   "language": "python",
   "name": "python3"
  },
  "language_info": {
   "codemirror_mode": {
    "name": "ipython",
    "version": 3
   },
   "file_extension": ".py",
   "mimetype": "text/x-python",
   "name": "python",
   "nbconvert_exporter": "python",
   "pygments_lexer": "ipython3",
   "version": "3.9.16"
  }
 },
 "nbformat": 4,
 "nbformat_minor": 1
}
